{
 "cells": [
  {
   "cell_type": "markdown",
   "id": "88092c9b",
   "metadata": {},
   "source": [
    "# Nama: Abel Maylio Yosevino  Tampubolon\n",
    "# NIM: 12S19040"
   ]
  },
  {
   "cell_type": "markdown",
   "id": "f87b3f5d",
   "metadata": {},
   "source": [
    "# Artificial Neural Network (ANN)\n"
   ]
  },
  {
   "cell_type": "markdown",
   "id": "b250681e",
   "metadata": {},
   "source": [
    "# Exercise"
   ]
  },
  {
   "cell_type": "markdown",
   "id": "5c5fe99b",
   "metadata": {},
   "source": [
    "## Exercise 1 | Artificial Neural Network Model"
   ]
  },
  {
   "cell_type": "markdown",
   "id": "db35e6ac",
   "metadata": {},
   "source": [
    "### Latihan 1.1 Artificial Neural Network Using Scikit-learn Library"
   ]
  },
  {
   "cell_type": "code",
   "execution_count": 16,
   "id": "a95f3ee9",
   "metadata": {},
   "outputs": [],
   "source": [
    "from sklearn import datasets\n",
    "from sklearn.model_selection import train_test_split\n",
    "\n",
    "iris = datasets.load_iris()\n",
    "\n",
    "X = iris.data\n",
    "Y = iris.target"
   ]
  },
  {
   "cell_type": "markdown",
   "id": "d1c325a6",
   "metadata": {},
   "source": [
    "Mengimport library"
   ]
  },
  {
   "cell_type": "code",
   "execution_count": 17,
   "id": "9e6115ed",
   "metadata": {},
   "outputs": [
    {
     "name": "stdout",
     "output_type": "stream",
     "text": [
      "X_train (114, 4)\n",
      "X_val (21, 4)\n",
      "X_test (15, 4)\n"
     ]
    }
   ],
   "source": [
    "X_train, X_test, Y_train, Y_test = train_test_split(X, y, test_size=.10)\n",
    "X_train, X_val, Y_train, Y_val = train_test_split(X_train, Y_train, test_size=.15) \n",
    "print('X_train', X_train.shape)\n",
    "print('X_val', X_val.shape)\n",
    "print('X_test', X_test.shape)"
   ]
  },
  {
   "cell_type": "markdown",
   "id": "6c3921e6",
   "metadata": {},
   "source": [
    "Data dibagi menjadi 3 bagian"
   ]
  },
  {
   "cell_type": "code",
   "execution_count": 18,
   "id": "563d87db",
   "metadata": {},
   "outputs": [],
   "source": [
    "from sklearn.neural_network import MLPClassifier\n",
    "\n",
    "mlp = MLPClassifier(hidden_layer_sizes=(64, ), activation='relu',max_iter=1000, epsilon=1e-08)\n"
   ]
  },
  {
   "cell_type": "code",
   "execution_count": 19,
   "id": "13779114",
   "metadata": {},
   "outputs": [
    {
     "name": "stdout",
     "output_type": "stream",
     "text": [
      "Validation Accuration Training ANN: 1.0\n"
     ]
    }
   ],
   "source": [
    "from sklearn.metrics import accuracy_score\n",
    "mlp.fit(X_train, Y_train)\n",
    "prediksi_val = mlp.predict(X_val)\n",
    "acc_val = accuracy_score(Y_val, prediksi_val) \n",
    "print('Validation Accuration Training ANN:', acc_val)"
   ]
  },
  {
   "cell_type": "code",
   "execution_count": 20,
   "id": "0f326864",
   "metadata": {},
   "outputs": [
    {
     "name": "stdout",
     "output_type": "stream",
     "text": [
      "ANN Testing Accuracy: 1.0\n"
     ]
    }
   ],
   "source": [
    "prediksi_test = mlp.predict(X_test)\n",
    "acc_test = accuracy_score(Y_test, prediksi_test)\n",
    "print('ANN Testing Accuracy:', acc_test)"
   ]
  },
  {
   "cell_type": "code",
   "execution_count": 21,
   "id": "dcc814f2",
   "metadata": {},
   "outputs": [
    {
     "name": "stdout",
     "output_type": "stream",
     "text": [
      "ANN Testing Accuracy: 1.0\n"
     ]
    },
    {
     "name": "stderr",
     "output_type": "stream",
     "text": [
      "c:\\users\\asus\\appdata\\local\\programs\\python\\python39\\lib\\site-packages\\sklearn\\utils\\deprecation.py:87: FutureWarning: Function plot_confusion_matrix is deprecated; Function `plot_confusion_matrix` is deprecated in 1.0 and will be removed in 1.2. Use one of the class methods: ConfusionMatrixDisplay.from_predictions or ConfusionMatrixDisplay.from_estimator.\n",
      "  warnings.warn(msg, category=FutureWarning)\n"
     ]
    },
    {
     "data": {
      "image/png": "[encoded data removed]",
      "text/plain": [
       "<Figure size 432x288 with 2 Axes>"
      ]
     },
     "metadata": {
      "needs_background": "light"
     },
     "output_type": "display_data"
    }
   ],
   "source": [
    "from sklearn.metrics import accuracy_score, plot_confusion_matrix\n",
    "\n",
    "prediksi = mlp.predict(X_test)\n",
    "plot_confusion_matrix(mlp, X_test, Y_test)\n",
    "accuracy = accuracy_score(Y_test, prediksi)\n",
    "print('ANN Testing Accuracy:', accuracy)"
   ]
  },
  {
   "cell_type": "markdown",
   "id": "238a5438",
   "metadata": {},
   "source": [
    "### Latihan 1.2. | Artificial Neural Network Model Using Keras Library"
   ]
  },
  {
   "cell_type": "code",
   "execution_count": 22,
   "id": "2e167db5",
   "metadata": {},
   "outputs": [],
   "source": [
    "from keras.utils import to_categorical\n",
    "\n",
    "Y_train = to_categorical(Y_train,3)\n",
    "Y_val = to_categorical(Y_val,3)\n",
    "Y_test = to_categorical(Y_test,3)"
   ]
  },
  {
   "cell_type": "code",
   "execution_count": 23,
   "id": "f7dbc04b",
   "metadata": {},
   "outputs": [],
   "source": [
    "from keras.models import Sequential\n",
    "from keras.layers import Flatten, Dense"
   ]
  },
  {
   "cell_type": "code",
   "execution_count": 24,
   "id": "ea6b600b",
   "metadata": {},
   "outputs": [],
   "source": [
    "model = Sequential()\n",
    "model.add(Flatten())"
   ]
  },
  {
   "cell_type": "code",
   "execution_count": 25,
   "id": "51ea6931",
   "metadata": {},
   "outputs": [],
   "source": [
    "model.add(Dense(64,activation='relu'))\n",
    "model.add(Dense(3,activation='softmax'))"
   ]
  },
  {
   "cell_type": "code",
   "execution_count": 26,
   "id": "73f1de9e",
   "metadata": {},
   "outputs": [],
   "source": [
    "model.compile(optimizer='adam',loss='categorical_crossentropy', metrics=['acc'])"
   ]
  },
  {
   "cell_type": "code",
   "execution_count": 27,
   "id": "5b8d12e2",
   "metadata": {},
   "outputs": [
    {
     "name": "stdout",
     "output_type": "stream",
     "text": [
      "Epoch 1/100\n",
      "23/23 [==============================] - 2s 11ms/step - loss: 1.1076 - acc: 0.2632 - val_loss: 0.9778 - val_acc: 0.2857\n",
      "Epoch 2/100\n",
      "23/23 [==============================] - 0s 3ms/step - loss: 0.8933 - acc: 0.5351 - val_loss: 0.8575 - val_acc: 0.6190\n",
      "Epoch 3/100\n",
      "23/23 [==============================] - 0s 2ms/step - loss: 0.7911 - acc: 0.6842 - val_loss: 0.7607 - val_acc: 0.6190\n",
      "Epoch 4/100\n",
      "23/23 [==============================] - 0s 2ms/step - loss: 0.7162 - acc: 0.6842 - val_loss: 0.6951 - val_acc: 0.6190\n",
      "Epoch 5/100\n",
      "23/23 [==============================] - 0s 2ms/step - loss: 0.6597 - acc: 0.6404 - val_loss: 0.6361 - val_acc: 0.6190\n",
      "Epoch 6/100\n",
      "23/23 [==============================] - 0s 2ms/step - loss: 0.5926 - acc: 0.6842 - val_loss: 0.5891 - val_acc: 0.6190\n",
      "Epoch 7/100\n",
      "23/23 [==============================] - 0s 2ms/step - loss: 0.5525 - acc: 0.6842 - val_loss: 0.5404 - val_acc: 0.7143\n",
      "Epoch 8/100\n",
      "23/23 [==============================] - 0s 2ms/step - loss: 0.5173 - acc: 0.8947 - val_loss: 0.5052 - val_acc: 0.8571\n",
      "Epoch 9/100\n",
      "23/23 [==============================] - 0s 2ms/step - loss: 0.4876 - acc: 0.7807 - val_loss: 0.4974 - val_acc: 0.6190\n",
      "Epoch 10/100\n",
      "23/23 [==============================] - 0s 2ms/step - loss: 0.4646 - acc: 0.7368 - val_loss: 0.4506 - val_acc: 0.9048\n",
      "Epoch 11/100\n",
      "23/23 [==============================] - 0s 3ms/step - loss: 0.4401 - acc: 0.9298 - val_loss: 0.4285 - val_acc: 0.9048\n",
      "Epoch 12/100\n",
      "23/23 [==============================] - 0s 2ms/step - loss: 0.4300 - acc: 0.7807 - val_loss: 0.4071 - val_acc: 0.9524\n",
      "Epoch 13/100\n",
      "23/23 [==============================] - 0s 2ms/step - loss: 0.4207 - acc: 0.8947 - val_loss: 0.3946 - val_acc: 0.9048\n",
      "Epoch 14/100\n",
      "23/23 [==============================] - 0s 3ms/step - loss: 0.3926 - acc: 0.8596 - val_loss: 0.3753 - val_acc: 0.9048\n",
      "Epoch 15/100\n",
      "23/23 [==============================] - 0s 2ms/step - loss: 0.3692 - acc: 0.9474 - val_loss: 0.3525 - val_acc: 0.9524\n",
      "Epoch 16/100\n",
      "23/23 [==============================] - 0s 2ms/step - loss: 0.3654 - acc: 0.9649 - val_loss: 0.3372 - val_acc: 1.0000\n",
      "Epoch 17/100\n",
      "23/23 [==============================] - 0s 2ms/step - loss: 0.3508 - acc: 0.9561 - val_loss: 0.3236 - val_acc: 0.9524\n",
      "Epoch 18/100\n",
      "23/23 [==============================] - 0s 3ms/step - loss: 0.3363 - acc: 0.9298 - val_loss: 0.3127 - val_acc: 0.9524\n",
      "Epoch 19/100\n",
      "23/23 [==============================] - 0s 2ms/step - loss: 0.3218 - acc: 0.9737 - val_loss: 0.2981 - val_acc: 0.9524\n",
      "Epoch 20/100\n",
      "23/23 [==============================] - 0s 2ms/step - loss: 0.3108 - acc: 0.9561 - val_loss: 0.2855 - val_acc: 1.0000\n",
      "Epoch 21/100\n",
      "23/23 [==============================] - 0s 2ms/step - loss: 0.3028 - acc: 0.9737 - val_loss: 0.2749 - val_acc: 0.9524\n",
      "Epoch 22/100\n",
      "23/23 [==============================] - 0s 2ms/step - loss: 0.2925 - acc: 0.9737 - val_loss: 0.2638 - val_acc: 0.9524\n",
      "Epoch 23/100\n",
      "23/23 [==============================] - 0s 2ms/step - loss: 0.2938 - acc: 0.9211 - val_loss: 0.2532 - val_acc: 0.9524\n",
      "Epoch 24/100\n",
      "23/23 [==============================] - 0s 3ms/step - loss: 0.2971 - acc: 0.9211 - val_loss: 0.2573 - val_acc: 0.9524\n",
      "Epoch 25/100\n",
      "23/23 [==============================] - 0s 2ms/step - loss: 0.2601 - acc: 0.9649 - val_loss: 0.2368 - val_acc: 1.0000\n",
      "Epoch 26/100\n",
      "23/23 [==============================] - 0s 2ms/step - loss: 0.2559 - acc: 0.9561 - val_loss: 0.2280 - val_acc: 0.9524\n",
      "Epoch 27/100\n",
      "23/23 [==============================] - 0s 2ms/step - loss: 0.2535 - acc: 0.9737 - val_loss: 0.2267 - val_acc: 0.9524\n",
      "Epoch 28/100\n",
      "23/23 [==============================] - 0s 2ms/step - loss: 0.2406 - acc: 0.9649 - val_loss: 0.2142 - val_acc: 0.9524\n",
      "Epoch 29/100\n",
      "23/23 [==============================] - 0s 2ms/step - loss: 0.2320 - acc: 0.9649 - val_loss: 0.2074 - val_acc: 0.9524\n",
      "Epoch 30/100\n",
      "23/23 [==============================] - 0s 2ms/step - loss: 0.2306 - acc: 0.9649 - val_loss: 0.1985 - val_acc: 1.0000\n",
      "Epoch 31/100\n",
      "23/23 [==============================] - 0s 2ms/step - loss: 0.2346 - acc: 0.9474 - val_loss: 0.2004 - val_acc: 0.9524\n",
      "Epoch 32/100\n",
      "23/23 [==============================] - 0s 2ms/step - loss: 0.2164 - acc: 0.9649 - val_loss: 0.1867 - val_acc: 0.9524\n",
      "Epoch 33/100\n",
      "23/23 [==============================] - 0s 2ms/step - loss: 0.2088 - acc: 0.9649 - val_loss: 0.1858 - val_acc: 0.9524\n",
      "Epoch 34/100\n",
      "23/23 [==============================] - 0s 2ms/step - loss: 0.2074 - acc: 0.9737 - val_loss: 0.1758 - val_acc: 0.9524\n",
      "Epoch 35/100\n",
      "23/23 [==============================] - 0s 2ms/step - loss: 0.1955 - acc: 0.9737 - val_loss: 0.1704 - val_acc: 1.0000\n",
      "Epoch 36/100\n",
      "23/23 [==============================] - 0s 2ms/step - loss: 0.1908 - acc: 0.9737 - val_loss: 0.1660 - val_acc: 1.0000\n",
      "Epoch 37/100\n",
      "23/23 [==============================] - 0s 2ms/step - loss: 0.1916 - acc: 0.9649 - val_loss: 0.1643 - val_acc: 0.9524\n",
      "Epoch 38/100\n",
      "23/23 [==============================] - 0s 2ms/step - loss: 0.1936 - acc: 0.9474 - val_loss: 0.1612 - val_acc: 0.9524\n",
      "Epoch 39/100\n",
      "23/23 [==============================] - 0s 2ms/step - loss: 0.1814 - acc: 0.9649 - val_loss: 0.1559 - val_acc: 0.9524\n",
      "Epoch 40/100\n",
      "23/23 [==============================] - 0s 2ms/step - loss: 0.1794 - acc: 0.9737 - val_loss: 0.1493 - val_acc: 0.9524\n",
      "Epoch 41/100\n",
      "23/23 [==============================] - 0s 2ms/step - loss: 0.1707 - acc: 0.9737 - val_loss: 0.1480 - val_acc: 0.9524\n",
      "Epoch 42/100\n",
      "23/23 [==============================] - 0s 2ms/step - loss: 0.1728 - acc: 0.9649 - val_loss: 0.1458 - val_acc: 0.9524\n",
      "Epoch 43/100\n",
      "23/23 [==============================] - 0s 2ms/step - loss: 0.1736 - acc: 0.9561 - val_loss: 0.1404 - val_acc: 0.9524\n",
      "Epoch 44/100\n",
      "23/23 [==============================] - 0s 2ms/step - loss: 0.1672 - acc: 0.9737 - val_loss: 0.1435 - val_acc: 0.9524\n",
      "Epoch 45/100\n",
      "23/23 [==============================] - 0s 2ms/step - loss: 0.1600 - acc: 0.9737 - val_loss: 0.1332 - val_acc: 1.0000\n",
      "Epoch 46/100\n",
      "23/23 [==============================] - 0s 2ms/step - loss: 0.1553 - acc: 0.9561 - val_loss: 0.1316 - val_acc: 1.0000\n",
      "Epoch 47/100\n",
      "23/23 [==============================] - 0s 2ms/step - loss: 0.1506 - acc: 0.9737 - val_loss: 0.1279 - val_acc: 1.0000\n",
      "Epoch 48/100\n",
      "23/23 [==============================] - 0s 2ms/step - loss: 0.1487 - acc: 0.9737 - val_loss: 0.1260 - val_acc: 1.0000\n",
      "Epoch 49/100\n",
      "23/23 [==============================] - 0s 2ms/step - loss: 0.1487 - acc: 0.9649 - val_loss: 0.1241 - val_acc: 0.9524\n",
      "Epoch 50/100\n",
      "23/23 [==============================] - 0s 2ms/step - loss: 0.1444 - acc: 0.9737 - val_loss: 0.1216 - val_acc: 1.0000\n",
      "Epoch 51/100\n",
      "23/23 [==============================] - 0s 2ms/step - loss: 0.1436 - acc: 0.9649 - val_loss: 0.1223 - val_acc: 0.9524\n",
      "Epoch 52/100\n",
      "23/23 [==============================] - 0s 2ms/step - loss: 0.1352 - acc: 0.9737 - val_loss: 0.1170 - val_acc: 1.0000\n",
      "Epoch 53/100\n",
      "23/23 [==============================] - 0s 2ms/step - loss: 0.1365 - acc: 0.9737 - val_loss: 0.1203 - val_acc: 0.9524\n",
      "Epoch 54/100\n",
      "23/23 [==============================] - 0s 2ms/step - loss: 0.1411 - acc: 0.9649 - val_loss: 0.1144 - val_acc: 1.0000\n",
      "Epoch 55/100\n",
      "23/23 [==============================] - 0s 2ms/step - loss: 0.1379 - acc: 0.9561 - val_loss: 0.1167 - val_acc: 0.9524\n",
      "Epoch 56/100\n",
      "23/23 [==============================] - 0s 2ms/step - loss: 0.1294 - acc: 0.9825 - val_loss: 0.1103 - val_acc: 0.9524\n",
      "Epoch 57/100\n",
      "23/23 [==============================] - 0s 2ms/step - loss: 0.1350 - acc: 0.9649 - val_loss: 0.1086 - val_acc: 0.9524\n",
      "Epoch 58/100\n",
      "23/23 [==============================] - 0s 2ms/step - loss: 0.1276 - acc: 0.9649 - val_loss: 0.1082 - val_acc: 1.0000\n",
      "Epoch 59/100\n",
      "23/23 [==============================] - 0s 2ms/step - loss: 0.1269 - acc: 0.9737 - val_loss: 0.1053 - val_acc: 1.0000\n",
      "Epoch 60/100\n",
      "23/23 [==============================] - 0s 2ms/step - loss: 0.1299 - acc: 0.9649 - val_loss: 0.1065 - val_acc: 0.9524\n",
      "Epoch 61/100\n",
      "23/23 [==============================] - 0s 2ms/step - loss: 0.1367 - acc: 0.9737 - val_loss: 0.1093 - val_acc: 0.9524\n",
      "Epoch 62/100\n",
      "23/23 [==============================] - 0s 2ms/step - loss: 0.1294 - acc: 0.9561 - val_loss: 0.1102 - val_acc: 0.9524\n",
      "Epoch 63/100\n",
      "23/23 [==============================] - 0s 2ms/step - loss: 0.1230 - acc: 0.9649 - val_loss: 0.1060 - val_acc: 0.9524\n",
      "Epoch 64/100\n",
      "23/23 [==============================] - 0s 2ms/step - loss: 0.1164 - acc: 0.9649 - val_loss: 0.0994 - val_acc: 1.0000\n",
      "Epoch 65/100\n",
      "23/23 [==============================] - 0s 2ms/step - loss: 0.1179 - acc: 0.9649 - val_loss: 0.1044 - val_acc: 0.9524\n",
      "Epoch 66/100\n",
      "23/23 [==============================] - 0s 2ms/step - loss: 0.1181 - acc: 0.9737 - val_loss: 0.1034 - val_acc: 0.9524\n",
      "Epoch 67/100\n",
      "23/23 [==============================] - 0s 2ms/step - loss: 0.1138 - acc: 0.9649 - val_loss: 0.1009 - val_acc: 0.9524\n",
      "Epoch 68/100\n",
      "23/23 [==============================] - 0s 2ms/step - loss: 0.1117 - acc: 0.9737 - val_loss: 0.0953 - val_acc: 1.0000\n",
      "Epoch 69/100\n",
      "23/23 [==============================] - 0s 2ms/step - loss: 0.1094 - acc: 0.9649 - val_loss: 0.1000 - val_acc: 0.9524\n",
      "Epoch 70/100\n",
      "23/23 [==============================] - 0s 2ms/step - loss: 0.1110 - acc: 0.9737 - val_loss: 0.0958 - val_acc: 0.9524\n",
      "Epoch 71/100\n",
      "23/23 [==============================] - 0s 2ms/step - loss: 0.1081 - acc: 0.9737 - val_loss: 0.0925 - val_acc: 1.0000\n",
      "Epoch 72/100\n",
      "23/23 [==============================] - 0s 2ms/step - loss: 0.1107 - acc: 0.9649 - val_loss: 0.1056 - val_acc: 0.9524\n",
      "Epoch 73/100\n",
      "23/23 [==============================] - 0s 3ms/step - loss: 0.1089 - acc: 0.9825 - val_loss: 0.0912 - val_acc: 1.0000\n",
      "Epoch 74/100\n",
      "23/23 [==============================] - 0s 2ms/step - loss: 0.1020 - acc: 0.9649 - val_loss: 0.0940 - val_acc: 0.9524\n",
      "Epoch 75/100\n",
      "23/23 [==============================] - 0s 2ms/step - loss: 0.1047 - acc: 0.9649 - val_loss: 0.0919 - val_acc: 0.9524\n",
      "Epoch 76/100\n",
      "23/23 [==============================] - 0s 2ms/step - loss: 0.1021 - acc: 0.9737 - val_loss: 0.0887 - val_acc: 1.0000\n",
      "Epoch 77/100\n",
      "23/23 [==============================] - 0s 2ms/step - loss: 0.1088 - acc: 0.9649 - val_loss: 0.0960 - val_acc: 0.9524\n",
      "Epoch 78/100\n",
      "23/23 [==============================] - 0s 2ms/step - loss: 0.1122 - acc: 0.9561 - val_loss: 0.1025 - val_acc: 0.9524\n",
      "Epoch 79/100\n",
      "23/23 [==============================] - 0s 2ms/step - loss: 0.1015 - acc: 0.9737 - val_loss: 0.0873 - val_acc: 1.0000\n",
      "Epoch 80/100\n",
      "23/23 [==============================] - 0s 2ms/step - loss: 0.0978 - acc: 0.9737 - val_loss: 0.0861 - val_acc: 1.0000\n",
      "Epoch 81/100\n",
      "23/23 [==============================] - 0s 2ms/step - loss: 0.1018 - acc: 0.9825 - val_loss: 0.0911 - val_acc: 0.9524\n",
      "Epoch 82/100\n",
      "23/23 [==============================] - 0s 2ms/step - loss: 0.0980 - acc: 0.9649 - val_loss: 0.0851 - val_acc: 0.9524\n",
      "Epoch 83/100\n",
      "23/23 [==============================] - 0s 2ms/step - loss: 0.1092 - acc: 0.9737 - val_loss: 0.0851 - val_acc: 1.0000\n",
      "Epoch 84/100\n",
      "23/23 [==============================] - 0s 2ms/step - loss: 0.1034 - acc: 0.9737 - val_loss: 0.0899 - val_acc: 0.9524\n",
      "Epoch 85/100\n",
      "23/23 [==============================] - 0s 2ms/step - loss: 0.0921 - acc: 0.9737 - val_loss: 0.0833 - val_acc: 1.0000\n",
      "Epoch 86/100\n",
      "23/23 [==============================] - 0s 2ms/step - loss: 0.0941 - acc: 0.9649 - val_loss: 0.0847 - val_acc: 1.0000\n",
      "Epoch 87/100\n",
      "23/23 [==============================] - 0s 2ms/step - loss: 0.0947 - acc: 0.9737 - val_loss: 0.0823 - val_acc: 1.0000\n",
      "Epoch 88/100\n",
      "23/23 [==============================] - 0s 2ms/step - loss: 0.0935 - acc: 0.9737 - val_loss: 0.0873 - val_acc: 0.9524\n",
      "Epoch 89/100\n",
      "23/23 [==============================] - 0s 2ms/step - loss: 0.0996 - acc: 0.9561 - val_loss: 0.0812 - val_acc: 1.0000\n",
      "Epoch 90/100\n",
      "23/23 [==============================] - 0s 2ms/step - loss: 0.0887 - acc: 0.9649 - val_loss: 0.0842 - val_acc: 0.9524\n",
      "Epoch 91/100\n",
      "23/23 [==============================] - 0s 2ms/step - loss: 0.0913 - acc: 0.9737 - val_loss: 0.0822 - val_acc: 0.9524\n",
      "Epoch 92/100\n",
      "23/23 [==============================] - 0s 2ms/step - loss: 0.0949 - acc: 0.9737 - val_loss: 0.0821 - val_acc: 1.0000\n",
      "Epoch 93/100\n",
      "23/23 [==============================] - 0s 2ms/step - loss: 0.0925 - acc: 0.9737 - val_loss: 0.0795 - val_acc: 1.0000\n",
      "Epoch 94/100\n",
      "23/23 [==============================] - 0s 2ms/step - loss: 0.0895 - acc: 0.9737 - val_loss: 0.0833 - val_acc: 0.9524\n",
      "Epoch 95/100\n",
      "23/23 [==============================] - 0s 2ms/step - loss: 0.0880 - acc: 0.9737 - val_loss: 0.0800 - val_acc: 1.0000\n",
      "Epoch 96/100\n",
      "23/23 [==============================] - 0s 2ms/step - loss: 0.0912 - acc: 0.9649 - val_loss: 0.0847 - val_acc: 0.9524\n",
      "Epoch 97/100\n",
      "23/23 [==============================] - 0s 2ms/step - loss: 0.0891 - acc: 0.9737 - val_loss: 0.0782 - val_acc: 1.0000\n",
      "Epoch 98/100\n",
      "23/23 [==============================] - 0s 2ms/step - loss: 0.0980 - acc: 0.9737 - val_loss: 0.0874 - val_acc: 0.9524\n",
      "Epoch 99/100\n",
      "23/23 [==============================] - 0s 2ms/step - loss: 0.0975 - acc: 0.9561 - val_loss: 0.0789 - val_acc: 1.0000\n",
      "Epoch 100/100\n",
      "23/23 [==============================] - 0s 2ms/step - loss: 0.0891 - acc: 0.9737 - val_loss: 0.0828 - val_acc: 0.9524\n"
     ]
    },
    {
     "data": {
      "text/plain": [
       "<keras.callbacks.History at 0x1d38cb8d850>"
      ]
     },
     "execution_count": 27,
     "metadata": {},
     "output_type": "execute_result"
    }
   ],
   "source": [
    "model.fit(X_train,Y_train,epochs=100,batch_size=5,validation_data=(X_val,Y_val))"
   ]
  },
  {
   "cell_type": "code",
   "execution_count": 28,
   "id": "7b678c83",
   "metadata": {},
   "outputs": [
    {
     "name": "stdout",
     "output_type": "stream",
     "text": [
      "Model: \"sequential_1\"\n",
      "_________________________________________________________________\n",
      " Layer (type)                Output Shape              Param #   \n",
      "=================================================================\n",
      " flatten_1 (Flatten)         (None, 4)                 0         \n",
      "                                                                 \n",
      " dense_2 (Dense)             (None, 64)                320       \n",
      "                                                                 \n",
      " dense_3 (Dense)             (None, 3)                 195       \n",
      "                                                                 \n",
      "=================================================================\n",
      "Total params: 515\n",
      "Trainable params: 515\n",
      "Non-trainable params: 0\n",
      "_________________________________________________________________\n"
     ]
    }
   ],
   "source": [
    "model.summary()"
   ]
  },
  {
   "cell_type": "code",
   "execution_count": 29,
   "id": "afde53c2",
   "metadata": {},
   "outputs": [
    {
     "name": "stdout",
     "output_type": "stream",
     "text": [
      "1/1 [==============================] - 0s 20ms/step - loss: 0.0658 - acc: 1.0000\n",
      "Akurasi Testing ANN: 1.0\n"
     ]
    }
   ],
   "source": [
    "from sklearn.metrics import confusion_matrix\n",
    "\n",
    "loss, accuracy = model.evaluate(X_test, Y_test)\n",
    "print('Akurasi Testing ANN:', accuracy)"
   ]
  },
  {
   "cell_type": "markdown",
   "id": "71ca4651",
   "metadata": {},
   "source": [
    "## Exercise 2 | Artificial Neural Network and Convolutional Neural Network Using Keras Library"
   ]
  },
  {
   "cell_type": "code",
   "execution_count": 30,
   "id": "ecc342f9",
   "metadata": {},
   "outputs": [
    {
     "name": "stdout",
     "output_type": "stream",
     "text": [
      "Downloading data from https://storage.googleapis.com/tensorflow/tf-keras-datasets/mnist.npz\n",
      "11490434/11490434 [==============================] - 10s 1us/step\n"
     ]
    }
   ],
   "source": [
    "import keras\n",
    "from keras.datasets import mnist\n",
    "\n",
    "(X_train, y_train), (X_test, y_test) = mnist.load_data()\n",
    "X_train = X_train.reshape(-1, 28,28,1)\n",
    "X_test = X_test.reshape(-1, 28,28,1)\n",
    "X_train = X_train.astype('float32')\n",
    "X_test = X_test.astype('float32')\n",
    "X_train /= 255\n",
    "X_test /= 255"
   ]
  },
  {
   "cell_type": "code",
   "execution_count": 31,
   "id": "041c4dcb",
   "metadata": {},
   "outputs": [],
   "source": [
    "y_train = keras.utils.to_categorical(y_train, 10)\n",
    "y_test = keras.utils.to_categorical(y_test, 10)"
   ]
  },
  {
   "cell_type": "code",
   "execution_count": 32,
   "id": "fc185f19",
   "metadata": {},
   "outputs": [],
   "source": [
    "from keras.models import Sequential\n",
    "from keras.layers import Flatten, Dense\n",
    "\n",
    "# model 1 menggunakan Multilayer Neural Network\n",
    "\n",
    "model1 = Sequential()\n",
    "model1.add(Flatten())\n",
    "model1.add(Dense(64,activation='relu'))\n",
    "model1.add(Dense(10,activation='softmax'))"
   ]
  },
  {
   "cell_type": "code",
   "execution_count": 33,
   "id": "36920a3a",
   "metadata": {},
   "outputs": [
    {
     "name": "stdout",
     "output_type": "stream",
     "text": [
      "Epoch 1/10\n",
      "600/600 [==============================] - 2s 2ms/step - loss: 0.3879 - acc: 0.8940 - val_loss: 0.2153 - val_acc: 0.9386\n",
      "Epoch 2/10\n",
      "600/600 [==============================] - 1s 2ms/step - loss: 0.1908 - acc: 0.9452 - val_loss: 0.1633 - val_acc: 0.9518\n",
      "Epoch 3/10\n",
      "600/600 [==============================] - 1s 2ms/step - loss: 0.1454 - acc: 0.9578 - val_loss: 0.1381 - val_acc: 0.9587\n",
      "Epoch 4/10\n",
      "600/600 [==============================] - 1s 2ms/step - loss: 0.1171 - acc: 0.9667 - val_loss: 0.1141 - val_acc: 0.9650\n",
      "Epoch 5/10\n",
      "600/600 [==============================] - 1s 2ms/step - loss: 0.0971 - acc: 0.9711 - val_loss: 0.1031 - val_acc: 0.9684\n",
      "Epoch 6/10\n",
      "600/600 [==============================] - 1s 2ms/step - loss: 0.0837 - acc: 0.9752 - val_loss: 0.0980 - val_acc: 0.9704\n",
      "Epoch 7/10\n",
      "600/600 [==============================] - 1s 2ms/step - loss: 0.0726 - acc: 0.9782 - val_loss: 0.0925 - val_acc: 0.9721\n",
      "Epoch 8/10\n",
      "600/600 [==============================] - 1s 2ms/step - loss: 0.0640 - acc: 0.9807 - val_loss: 0.0859 - val_acc: 0.9743\n",
      "Epoch 9/10\n",
      "600/600 [==============================] - 1s 2ms/step - loss: 0.0563 - acc: 0.9828 - val_loss: 0.0853 - val_acc: 0.9738\n",
      "Epoch 10/10\n",
      "600/600 [==============================] - 1s 2ms/step - loss: 0.0502 - acc: 0.9849 - val_loss: 0.0858 - val_acc: 0.9741\n"
     ]
    }
   ],
   "source": [
    "model1.compile(optimizer='adam',loss='categorical_crossentropy',metrics=['acc'])\n",
    "history1 = model1.fit(X_train,y_train,epochs=10,batch_size=100,validation_data=(X_test,y_test))"
   ]
  },
  {
   "cell_type": "code",
   "execution_count": 34,
   "id": "8264e0b7",
   "metadata": {},
   "outputs": [
    {
     "name": "stdout",
     "output_type": "stream",
     "text": [
      "Model: \"sequential_2\"\n",
      "_________________________________________________________________\n",
      " Layer (type)                Output Shape              Param #   \n",
      "=================================================================\n",
      " flatten_2 (Flatten)         (100, 784)                0         \n",
      "                                                                 \n",
      " dense_4 (Dense)             (100, 64)                 50240     \n",
      "                                                                 \n",
      " dense_5 (Dense)             (100, 10)                 650       \n",
      "                                                                 \n",
      "=================================================================\n",
      "Total params: 50,890\n",
      "Trainable params: 50,890\n",
      "Non-trainable params: 0\n",
      "_________________________________________________________________\n"
     ]
    }
   ],
   "source": [
    "model1.summary()"
   ]
  },
  {
   "cell_type": "code",
   "execution_count": 35,
   "id": "1dea2331",
   "metadata": {},
   "outputs": [
    {
     "name": "stdout",
     "output_type": "stream",
     "text": [
      "313/313 [==============================] - 0s 1ms/step - loss: 0.0858 - acc: 0.9741\n"
     ]
    },
    {
     "data": {
      "text/plain": [
       "[0.08576107025146484, 0.9740999937057495]"
      ]
     },
     "execution_count": 35,
     "metadata": {},
     "output_type": "execute_result"
    }
   ],
   "source": [
    "model1.evaluate(X_test,y_test)"
   ]
  },
  {
   "cell_type": "code",
   "execution_count": 36,
   "id": "a50dab51",
   "metadata": {},
   "outputs": [
    {
     "data": {
      "text/plain": [
       "<matplotlib.legend.Legend at 0x1d390f4f6d0>"
      ]
     },
     "execution_count": 36,
     "metadata": {},
     "output_type": "execute_result"
    },
    {
     "data": {
      "image/png": "[encoded data removed]",
      "text/plain": [
       "<Figure size 432x288 with 1 Axes>"
      ]
     },
     "metadata": {
      "needs_background": "light"
     },
     "output_type": "display_data"
    }
   ],
   "source": [
    "import matplotlib.pyplot as plt\n",
    "\n",
    "epochs = range(10)\n",
    "\n",
    "loss1 = history1.history['loss']\n",
    "val_loss1 = history1.history['val_loss']\n",
    "\n",
    "plt.plot(epochs,loss1,'r',label='training loss ANN')\n",
    "plt.plot(epochs,val_loss1,'b',label='validasi loss ANN')\n",
    "plt.legend()"
   ]
  },
  {
   "cell_type": "code",
   "execution_count": 37,
   "id": "f03c3499",
   "metadata": {},
   "outputs": [
    {
     "name": "stdout",
     "output_type": "stream",
     "text": [
      "313/313 [==============================] - 0s 1ms/step\n",
      "label actual: 3\n",
      "label prediction: 3\n"
     ]
    }
   ],
   "source": [
    "import numpy as np\n",
    "\n",
    "pred = model1.predict(X_test)\n",
    "print('label actual:',np.argmax(y_test[30]))\n",
    "print('label prediction:',np.argmax(pred[30]))"
   ]
  },
  {
   "cell_type": "code",
   "execution_count": 38,
   "id": "0a9c79f7",
   "metadata": {},
   "outputs": [],
   "source": [
    "from keras.models import Sequential\n",
    "from keras.layers import Conv2D, MaxPooling2D, Flatten, Dense\n",
    "\n",
    "# model 2 menggunakan Convolutional Neural Network\n",
    "\n",
    "model2 = Sequential()\n",
    "model2.add(Conv2D(16,(3,3),activation='relu',input_shape=(28,28,1),padding='same'))\n",
    "model2.add(MaxPooling2D(2,2))\n",
    "model2.add(Conv2D(32,(3,3),activation='relu',padding='same'))\n",
    "model2.add(MaxPooling2D(2,2))\n",
    "\n",
    "model2.add(Flatten())\n",
    "model2.add(Dense(64,activation='relu'))\n",
    "model2.add(Dense(10,activation='softmax'))"
   ]
  },
  {
   "cell_type": "code",
   "execution_count": 39,
   "id": "cfa4d019",
   "metadata": {},
   "outputs": [
    {
     "name": "stdout",
     "output_type": "stream",
     "text": [
      "Model: \"sequential_3\"\n",
      "_________________________________________________________________\n",
      " Layer (type)                Output Shape              Param #   \n",
      "=================================================================\n",
      " conv2d (Conv2D)             (None, 28, 28, 16)        160       \n",
      "                                                                 \n",
      " max_pooling2d (MaxPooling2D  (None, 14, 14, 16)       0         \n",
      " )                                                               \n",
      "                                                                 \n",
      " conv2d_1 (Conv2D)           (None, 14, 14, 32)        4640      \n",
      "                                                                 \n",
      " max_pooling2d_1 (MaxPooling  (None, 7, 7, 32)         0         \n",
      " 2D)                                                             \n",
      "                                                                 \n",
      " flatten_3 (Flatten)         (None, 1568)              0         \n",
      "                                                                 \n",
      " dense_6 (Dense)             (None, 64)                100416    \n",
      "                                                                 \n",
      " dense_7 (Dense)             (None, 10)                650       \n",
      "                                                                 \n",
      "=================================================================\n",
      "Total params: 105,866\n",
      "Trainable params: 105,866\n",
      "Non-trainable params: 0\n",
      "_________________________________________________________________\n"
     ]
    }
   ],
   "source": [
    "model2.summary()"
   ]
  },
  {
   "cell_type": "code",
   "execution_count": 40,
   "id": "de90c611",
   "metadata": {},
   "outputs": [
    {
     "name": "stdout",
     "output_type": "stream",
     "text": [
      "Epoch 1/10\n",
      "600/600 [==============================] - 14s 22ms/step - loss: 0.2473 - acc: 0.9285 - val_loss: 0.0842 - val_acc: 0.9749\n",
      "Epoch 2/10\n",
      "600/600 [==============================] - 13s 22ms/step - loss: 0.0696 - acc: 0.9785 - val_loss: 0.0505 - val_acc: 0.9823\n",
      "Epoch 3/10\n",
      "600/600 [==============================] - 13s 22ms/step - loss: 0.0501 - acc: 0.9844 - val_loss: 0.0468 - val_acc: 0.9836\n",
      "Epoch 4/10\n",
      "600/600 [==============================] - 14s 23ms/step - loss: 0.0400 - acc: 0.9875 - val_loss: 0.0324 - val_acc: 0.9896\n",
      "Epoch 5/10\n",
      "600/600 [==============================] - 14s 23ms/step - loss: 0.0323 - acc: 0.9898 - val_loss: 0.0341 - val_acc: 0.9878\n",
      "Epoch 6/10\n",
      "600/600 [==============================] - 15s 25ms/step - loss: 0.0276 - acc: 0.9912 - val_loss: 0.0354 - val_acc: 0.9874\n",
      "Epoch 7/10\n",
      "600/600 [==============================] - 15s 24ms/step - loss: 0.0216 - acc: 0.9931 - val_loss: 0.0345 - val_acc: 0.9886\n",
      "Epoch 8/10\n",
      "600/600 [==============================] - 15s 25ms/step - loss: 0.0191 - acc: 0.9940 - val_loss: 0.0336 - val_acc: 0.9886\n",
      "Epoch 9/10\n",
      "600/600 [==============================] - 14s 24ms/step - loss: 0.0155 - acc: 0.9951 - val_loss: 0.0318 - val_acc: 0.9896\n",
      "Epoch 10/10\n",
      "600/600 [==============================] - 15s 25ms/step - loss: 0.0135 - acc: 0.9958 - val_loss: 0.0334 - val_acc: 0.9892\n"
     ]
    }
   ],
   "source": [
    "model2.compile(optimizer='adam',loss='categorical_crossentropy',metrics=['acc'])\n",
    "history2 = model2.fit(X_train,y_train,epochs=10,batch_size=100,validation_data=(X_test,y_test))"
   ]
  },
  {
   "cell_type": "code",
   "execution_count": 41,
   "id": "3d0aa4a8",
   "metadata": {},
   "outputs": [
    {
     "name": "stdout",
     "output_type": "stream",
     "text": [
      "313/313 [==============================] - 1s 3ms/step - loss: 0.0334 - acc: 0.9892\n"
     ]
    },
    {
     "data": {
      "text/plain": [
       "[0.033427223563194275, 0.9891999959945679]"
      ]
     },
     "execution_count": 41,
     "metadata": {},
     "output_type": "execute_result"
    }
   ],
   "source": [
    "model2.evaluate(X_test,y_test)"
   ]
  },
  {
   "cell_type": "code",
   "execution_count": 42,
   "id": "535413c0",
   "metadata": {},
   "outputs": [
    {
     "data": {
      "text/plain": [
       "<matplotlib.legend.Legend at 0x1d390f92520>"
      ]
     },
     "execution_count": 42,
     "metadata": {},
     "output_type": "execute_result"
    },
    {
     "data": {
      "image/png": "[encoded data removed]",
      "text/plain": [
       "<Figure size 432x288 with 1 Axes>"
      ]
     },
     "metadata": {
      "needs_background": "light"
     },
     "output_type": "display_data"
    }
   ],
   "source": [
    "import matplotlib.pyplot as plt\n",
    "\n",
    "epochs = range(10)\n",
    "\n",
    "loss2 = history2.history['loss']\n",
    "val_loss2 = history2.history['val_loss']\n",
    "\n",
    "plt.plot(epochs,loss2,'r',label='train loss CNN')\n",
    "plt.plot(epochs,val_loss2,'b',label='val loss CNN')\n",
    "plt.legend()"
   ]
  },
  {
   "cell_type": "code",
   "execution_count": 43,
   "id": "da78ed2f",
   "metadata": {},
   "outputs": [
    {
     "data": {
      "text/plain": [
       "<matplotlib.legend.Legend at 0x1d385b00b80>"
      ]
     },
     "execution_count": 43,
     "metadata": {},
     "output_type": "execute_result"
    },
    {
     "data": {
      "image/png": "[encoded data removed]",
      "text/plain": [
       "<Figure size 432x288 with 1 Axes>"
      ]
     },
     "metadata": {
      "needs_background": "light"
     },
     "output_type": "display_data"
    }
   ],
   "source": [
    "import matplotlib.pyplot as plt\n",
    "\n",
    "epochs = range(10)\n",
    "\n",
    "acc1 = history1.history['acc']\n",
    "val_acc1 = history1.history['val_acc']\n",
    "\n",
    "plt.plot(epochs,acc1,'r',label='training MLP')\n",
    "plt.plot(epochs,val_acc1,'b',label='validasi MLP')\n",
    "\n",
    "acc2 = history2.history['acc']\n",
    "val_acc2 = history2.history['val_acc']\n",
    "\n",
    "plt.plot(epochs,acc2,'r+',label='training CNN')\n",
    "plt.plot(epochs,val_acc2,'b+',label='validasi CNN')\n",
    "plt.legend()"
   ]
  },
  {
   "cell_type": "code",
   "execution_count": 44,
   "id": "f9e72385",
   "metadata": {},
   "outputs": [
    {
     "data": {
      "text/plain": [
       "<matplotlib.legend.Legend at 0x1d3911583d0>"
      ]
     },
     "execution_count": 44,
     "metadata": {},
     "output_type": "execute_result"
    },
    {
     "data": {
      "image/png": "[encoded data removed]",
      "text/plain": [
       "<Figure size 432x288 with 1 Axes>"
      ]
     },
     "metadata": {
      "needs_background": "light"
     },
     "output_type": "display_data"
    }
   ],
   "source": [
    "import matplotlib.pyplot as plt\n",
    "\n",
    "epochs = range(10)\n",
    "\n",
    "loss1 = history1.history['loss']\n",
    "val_loss1 = history1.history['val_loss']\n",
    "\n",
    "plt.plot(epochs,loss1,'r',label='train loss ANN')\n",
    "plt.plot(epochs,val_loss1,'b',label='val loss ANN')\n",
    "\n",
    "loss2 = history2.history['loss']\n",
    "val_loss2 = history2.history['val_loss']\n",
    "\n",
    "plt.plot(epochs,loss2,'r+',label='train loss CNN')\n",
    "plt.plot(epochs,val_loss2,'b+',label='val loss CNN')\n",
    "plt.legend()"
   ]
  },
  {
   "cell_type": "markdown",
   "id": "5359c005",
   "metadata": {},
   "source": [
    "# TUGAS"
   ]
  },
  {
   "cell_type": "markdown",
   "id": "c1f398a0",
   "metadata": {},
   "source": [
    "## a. Melakukan Unduh Dataset dan Import Library"
   ]
  },
  {
   "cell_type": "code",
   "execution_count": 45,
   "id": "042a8c23",
   "metadata": {},
   "outputs": [],
   "source": [
    "# import library\n",
    "import pandas as pd\n",
    "import numpy as np\n",
    "import random as rd\n",
    "import seaborn as sns\n",
    "import matplotlib.pyplot as plt"
   ]
  },
  {
   "cell_type": "code",
   "execution_count": 48,
   "id": "1ab746b3",
   "metadata": {},
   "outputs": [
    {
     "data": {
      "text/html": [
       "<div>\n",
       "<style scoped>\n",
       "    .dataframe tbody tr th:only-of-type {\n",
       "        vertical-align: middle;\n",
       "    }\n",
       "\n",
       "    .dataframe tbody tr th {\n",
       "        vertical-align: top;\n",
       "    }\n",
       "\n",
       "    .dataframe thead th {\n",
       "        text-align: right;\n",
       "    }\n",
       "</style>\n",
       "<table border=\"1\" class=\"dataframe\">\n",
       "  <thead>\n",
       "    <tr style=\"text-align: right;\">\n",
       "      <th></th>\n",
       "      <th>Unnamed: 0</th>\n",
       "      <th>Category</th>\n",
       "      <th>Age</th>\n",
       "      <th>Sex</th>\n",
       "      <th>ALB</th>\n",
       "      <th>ALP</th>\n",
       "      <th>ALT</th>\n",
       "      <th>AST</th>\n",
       "      <th>BIL</th>\n",
       "      <th>CHE</th>\n",
       "      <th>CHOL</th>\n",
       "      <th>CREA</th>\n",
       "      <th>GGT</th>\n",
       "      <th>PROT</th>\n",
       "    </tr>\n",
       "  </thead>\n",
       "  <tbody>\n",
       "    <tr>\n",
       "      <th>0</th>\n",
       "      <td>1</td>\n",
       "      <td>0=Blood Donor</td>\n",
       "      <td>32</td>\n",
       "      <td>m</td>\n",
       "      <td>38.5</td>\n",
       "      <td>52.5</td>\n",
       "      <td>7.7</td>\n",
       "      <td>22.1</td>\n",
       "      <td>7.5</td>\n",
       "      <td>6.93</td>\n",
       "      <td>3.23</td>\n",
       "      <td>106.0</td>\n",
       "      <td>12.1</td>\n",
       "      <td>69.0</td>\n",
       "    </tr>\n",
       "    <tr>\n",
       "      <th>1</th>\n",
       "      <td>2</td>\n",
       "      <td>0=Blood Donor</td>\n",
       "      <td>32</td>\n",
       "      <td>m</td>\n",
       "      <td>38.5</td>\n",
       "      <td>70.3</td>\n",
       "      <td>18.0</td>\n",
       "      <td>24.7</td>\n",
       "      <td>3.9</td>\n",
       "      <td>11.17</td>\n",
       "      <td>4.80</td>\n",
       "      <td>74.0</td>\n",
       "      <td>15.6</td>\n",
       "      <td>76.5</td>\n",
       "    </tr>\n",
       "    <tr>\n",
       "      <th>2</th>\n",
       "      <td>3</td>\n",
       "      <td>0=Blood Donor</td>\n",
       "      <td>32</td>\n",
       "      <td>m</td>\n",
       "      <td>46.9</td>\n",
       "      <td>74.7</td>\n",
       "      <td>36.2</td>\n",
       "      <td>52.6</td>\n",
       "      <td>6.1</td>\n",
       "      <td>8.84</td>\n",
       "      <td>5.20</td>\n",
       "      <td>86.0</td>\n",
       "      <td>33.2</td>\n",
       "      <td>79.3</td>\n",
       "    </tr>\n",
       "    <tr>\n",
       "      <th>3</th>\n",
       "      <td>4</td>\n",
       "      <td>0=Blood Donor</td>\n",
       "      <td>32</td>\n",
       "      <td>m</td>\n",
       "      <td>43.2</td>\n",
       "      <td>52.0</td>\n",
       "      <td>30.6</td>\n",
       "      <td>22.6</td>\n",
       "      <td>18.9</td>\n",
       "      <td>7.33</td>\n",
       "      <td>4.74</td>\n",
       "      <td>80.0</td>\n",
       "      <td>33.8</td>\n",
       "      <td>75.7</td>\n",
       "    </tr>\n",
       "    <tr>\n",
       "      <th>4</th>\n",
       "      <td>5</td>\n",
       "      <td>0=Blood Donor</td>\n",
       "      <td>32</td>\n",
       "      <td>m</td>\n",
       "      <td>39.2</td>\n",
       "      <td>74.1</td>\n",
       "      <td>32.6</td>\n",
       "      <td>24.8</td>\n",
       "      <td>9.6</td>\n",
       "      <td>9.15</td>\n",
       "      <td>4.32</td>\n",
       "      <td>76.0</td>\n",
       "      <td>29.9</td>\n",
       "      <td>68.7</td>\n",
       "    </tr>\n",
       "  </tbody>\n",
       "</table>\n",
       "</div>"
      ],
      "text/plain": [
       "   Unnamed: 0       Category  Age Sex   ALB   ALP   ALT   AST   BIL    CHE  \\\n",
       "0           1  0=Blood Donor   32   m  38.5  52.5   7.7  22.1   7.5   6.93   \n",
       "1           2  0=Blood Donor   32   m  38.5  70.3  18.0  24.7   3.9  11.17   \n",
       "2           3  0=Blood Donor   32   m  46.9  74.7  36.2  52.6   6.1   8.84   \n",
       "3           4  0=Blood Donor   32   m  43.2  52.0  30.6  22.6  18.9   7.33   \n",
       "4           5  0=Blood Donor   32   m  39.2  74.1  32.6  24.8   9.6   9.15   \n",
       "\n",
       "   CHOL   CREA   GGT  PROT  \n",
       "0  3.23  106.0  12.1  69.0  \n",
       "1  4.80   74.0  15.6  76.5  \n",
       "2  5.20   86.0  33.2  79.3  \n",
       "3  4.74   80.0  33.8  75.7  \n",
       "4  4.32   76.0  29.9  68.7  "
      ]
     },
     "execution_count": 48,
     "metadata": {},
     "output_type": "execute_result"
    }
   ],
   "source": [
    "# import dataset\n",
    "df = pd.read_csv(\"hcvdat0.csv\")\n",
    "df.head()"
   ]
  },
  {
   "cell_type": "code",
   "execution_count": 49,
   "id": "145eea29",
   "metadata": {},
   "outputs": [
    {
     "data": {
      "text/plain": [
       "Unnamed: 0     0\n",
       "Category       0\n",
       "Age            0\n",
       "Sex            0\n",
       "ALB            1\n",
       "ALP           18\n",
       "ALT            1\n",
       "AST            0\n",
       "BIL            0\n",
       "CHE            0\n",
       "CHOL          10\n",
       "CREA           0\n",
       "GGT            0\n",
       "PROT           1\n",
       "dtype: int64"
      ]
     },
     "execution_count": 49,
     "metadata": {},
     "output_type": "execute_result"
    }
   ],
   "source": [
    "df.isnull().sum()"
   ]
  },
  {
   "cell_type": "code",
   "execution_count": 50,
   "id": "f6c6f8c9",
   "metadata": {},
   "outputs": [
    {
     "name": "stdout",
     "output_type": "stream",
     "text": [
      "Jumlah entri yang hilang sebelum dibersihkan: 0.36005 %\n"
     ]
    }
   ],
   "source": [
    "Missing_Percentage = (df.isnull().sum()).sum()/np.product(df.shape)*100\n",
    "print(\"Jumlah entri yang hilang sebelum dibersihkan: \" + str(round(Missing_Percentage,5)) + \" %\")"
   ]
  },
  {
   "cell_type": "code",
   "execution_count": 51,
   "id": "4fe57136",
   "metadata": {},
   "outputs": [
    {
     "name": "stderr",
     "output_type": "stream",
     "text": [
      "C:\\Users\\Asus\\AppData\\Local\\Temp/ipykernel_16536/3475002019.py:1: FutureWarning: Dropping of nuisance columns in DataFrame reductions (with 'numeric_only=None') is deprecated; in a future version this will raise TypeError.  Select only valid columns before calling the reduction.\n",
      "  data = df.fillna(df.mean())\n"
     ]
    }
   ],
   "source": [
    "data = df.fillna(df.mean())"
   ]
  },
  {
   "cell_type": "code",
   "execution_count": 52,
   "id": "5de7727f",
   "metadata": {},
   "outputs": [
    {
     "name": "stdout",
     "output_type": "stream",
     "text": [
      "Transformasi data dummy berhasil\n"
     ]
    },
    {
     "name": "stderr",
     "output_type": "stream",
     "text": [
      "C:\\Users\\Asus\\AppData\\Local\\Temp/ipykernel_16536/3990111427.py:16: SettingWithCopyWarning: \n",
      "A value is trying to be set on a copy of a slice from a DataFrame.\n",
      "Try using .loc[row_indexer,col_indexer] = value instead\n",
      "\n",
      "See the caveats in the documentation: https://pandas.pydata.org/pandas-docs/stable/user_guide/indexing.html#returning-a-view-versus-a-copy\n",
      "  data_numeric[\"id\"] = data_numeric.index + 1\n"
     ]
    }
   ],
   "source": [
    "# Mengimputasi data dengan nilai mean apabila ada nilai null\n",
    "C = (data.dtypes == 'object')\n",
    "CategoricalVariables = list(C[C].index)\n",
    "\n",
    "Float = (data.dtypes == 'float64')\n",
    "Integer = (data.dtypes == 'int64')\n",
    "NumericVariables = list(Integer[Integer].index) + list(Float[Float].index)\n",
    "\n",
    "## mentransformasi dari Kategorikal menjadi numerik\n",
    "data_kategori = pd.get_dummies(data[CategoricalVariables], columns=CategoricalVariables)\n",
    "data_numeric = data[NumericVariables]\n",
    "\n",
    "data_dummies= pd.get_dummies(data[CategoricalVariables], columns=CategoricalVariables)\n",
    "data_numeric = data[NumericVariables]\n",
    "\n",
    "data_numeric[\"id\"] = data_numeric.index + 1\n",
    "data_dummies[\"id\"] = data_dummies.index + 1\n",
    "data_new = pd.merge(data_numeric,data_dummies ,on=\"id\")\n",
    "response = ['Response']\n",
    "VariablesNoTarget = [x for x in data_new.columns if x not in response]\n",
    "print(\"Transformasi data dummy berhasil\")"
   ]
  },
  {
   "cell_type": "code",
   "execution_count": 53,
   "id": "d0df5f80",
   "metadata": {},
   "outputs": [
    {
     "name": "stdout",
     "output_type": "stream",
     "text": [
      "The number of missing entries before cleaning: 0.0 %\n"
     ]
    }
   ],
   "source": [
    "Missing_Percentage = (data.isnull().sum()).sum()/np.product(data.shape)*100\n",
    "print(\"The number of missing entries before cleaning: \" + str(round(Missing_Percentage,5)) + \" %\")"
   ]
  },
  {
   "cell_type": "code",
   "execution_count": 54,
   "id": "059a3cbb",
   "metadata": {},
   "outputs": [
    {
     "name": "stdout",
     "output_type": "stream",
     "text": [
      "<class 'pandas.core.frame.DataFrame'>\n",
      "Int64Index: 615 entries, 0 to 614\n",
      "Data columns (total 20 columns):\n",
      " #   Column                           Non-Null Count  Dtype  \n",
      "---  ------                           --------------  -----  \n",
      " 0   Unnamed: 0                       615 non-null    int64  \n",
      " 1   Age                              615 non-null    int64  \n",
      " 2   ALB                              615 non-null    float64\n",
      " 3   ALP                              615 non-null    float64\n",
      " 4   ALT                              615 non-null    float64\n",
      " 5   AST                              615 non-null    float64\n",
      " 6   BIL                              615 non-null    float64\n",
      " 7   CHE                              615 non-null    float64\n",
      " 8   CHOL                             615 non-null    float64\n",
      " 9   CREA                             615 non-null    float64\n",
      " 10  GGT                              615 non-null    float64\n",
      " 11  PROT                             615 non-null    float64\n",
      " 12  id                               615 non-null    int64  \n",
      " 13  Category_0=Blood Donor           615 non-null    uint8  \n",
      " 14  Category_0s=suspect Blood Donor  615 non-null    uint8  \n",
      " 15  Category_1=Hepatitis             615 non-null    uint8  \n",
      " 16  Category_2=Fibrosis              615 non-null    uint8  \n",
      " 17  Category_3=Cirrhosis             615 non-null    uint8  \n",
      " 18  Sex_f                            615 non-null    uint8  \n",
      " 19  Sex_m                            615 non-null    uint8  \n",
      "dtypes: float64(10), int64(3), uint8(7)\n",
      "memory usage: 71.5 KB\n"
     ]
    }
   ],
   "source": [
    "data_new.info()"
   ]
  },
  {
   "cell_type": "markdown",
   "id": "bcdb947e",
   "metadata": {},
   "source": [
    "## b. Membagi Dataset (Data train, Data validasi, Data uji)"
   ]
  },
  {
   "cell_type": "code",
   "execution_count": 55,
   "id": "1f96a505",
   "metadata": {},
   "outputs": [],
   "source": [
    "X = data_new.iloc[:, 1:19].values\n",
    "y = data_new.iloc[:, -1].values"
   ]
  },
  {
   "cell_type": "code",
   "execution_count": 57,
   "id": "b07ca69a",
   "metadata": {},
   "outputs": [
    {
     "name": "stdout",
     "output_type": "stream",
     "text": [
      "X_train (470, 18)\n",
      "X_val (83, 18)\n",
      "X_test (62, 18)\n"
     ]
    }
   ],
   "source": [
    "from sklearn.model_selection import train_test_split\n",
    "X_train, X_test, Y_train, Y_test = train_test_split(X, y, test_size=.10)\n",
    "X_train, X_val, Y_train, Y_val = train_test_split(X_train, Y_train, test_size=.15)\n",
    "\n",
    "print('X_train', X_train.shape)\n",
    "print('X_val', X_val.shape)\n",
    "print('X_test', X_test.shape)"
   ]
  },
  {
   "cell_type": "markdown",
   "id": "7e0f216f",
   "metadata": {},
   "source": [
    "## c. Merancang dan membangun model ANN."
   ]
  },
  {
   "cell_type": "code",
   "execution_count": 58,
   "id": "a8be7ee8",
   "metadata": {},
   "outputs": [],
   "source": [
    "from sklearn.neural_network import MLPClassifier\n",
    "mlp = MLPClassifier(hidden_layer_sizes=(64, ), activation='relu', max_iter=1000, epsilon=1e-08)"
   ]
  },
  {
   "cell_type": "code",
   "execution_count": 61,
   "id": "6d4baa77",
   "metadata": {},
   "outputs": [
    {
     "name": "stdout",
     "output_type": "stream",
     "text": [
      "Validation training accuration ANN: 0.9759036144578314\n"
     ]
    }
   ],
   "source": [
    "from sklearn.metrics import accuracy_score\n",
    "\n",
    "mlp.fit(X_train, Y_train)\n",
    "val_predict = mlp.predict(X_val)\n",
    "acc_val = accuracy_score(Y_val, prediksi_val)\n",
    "print('Validation training accuration ANN:', acc_val)"
   ]
  },
  {
   "cell_type": "code",
   "execution_count": 62,
   "id": "ba24dc4d",
   "metadata": {},
   "outputs": [
    {
     "name": "stdout",
     "output_type": "stream",
     "text": [
      "ANN testing accuracy: 0.9516129032258065\n"
     ]
    }
   ],
   "source": [
    "test_predict = mlp.predict(X_test)\n",
    "acc_test = accuracy_score(Y_test, test_predict)\n",
    "print('ANN testing accuracy:', acc_test)"
   ]
  },
  {
   "cell_type": "markdown",
   "id": "9c27d0a5",
   "metadata": {},
   "source": [
    "## d. Menampilkan grafik loss train dan validasi dari hasil pembangunan model"
   ]
  },
  {
   "cell_type": "code",
   "execution_count": 64,
   "id": "b725a567",
   "metadata": {},
   "outputs": [],
   "source": [
    "from keras.models import Sequential\n",
    "from keras.layers import Flatten, Dense\n",
    "\n",
    "# Model pertama menggunakan multilayer neural network\n",
    "model = Sequential()\n",
    "model.add(Flatten())\n",
    "model.add(Dense(64, activation='relu'))\n",
    "model.add(Dense(10, activation='softmax'))"
   ]
  },
  {
   "cell_type": "code",
   "execution_count": 65,
   "id": "50dbfd34",
   "metadata": {},
   "outputs": [],
   "source": [
    "model.compile(optimizer='adam', loss='sparse_categorical_crossentropy', metrics=['acc'])"
   ]
  },
  {
   "cell_type": "code",
   "execution_count": 66,
   "id": "be8246db",
   "metadata": {},
   "outputs": [
    {
     "name": "stdout",
     "output_type": "stream",
     "text": [
      "Epoch 1/10\n",
      "5/5 [==============================] - 1s 31ms/step - loss: 97.3232 - acc: 0.0000e+00 - val_loss: 75.5924 - val_acc: 0.0000e+00\n",
      "Epoch 2/10\n",
      "5/5 [==============================] - 0s 7ms/step - loss: 60.4786 - acc: 0.0000e+00 - val_loss: 38.7324 - val_acc: 0.0000e+00\n",
      "Epoch 3/10\n",
      "5/5 [==============================] - 0s 8ms/step - loss: 25.6221 - acc: 0.0064 - val_loss: 8.0323 - val_acc: 0.2742\n",
      "Epoch 4/10\n",
      "5/5 [==============================] - 0s 7ms/step - loss: 5.5209 - acc: 0.4787 - val_loss: 4.4418 - val_acc: 0.5806\n",
      "Epoch 5/10\n",
      "5/5 [==============================] - 0s 7ms/step - loss: 2.8682 - acc: 0.6766 - val_loss: 3.4623 - val_acc: 0.8226\n",
      "Epoch 6/10\n",
      "5/5 [==============================] - 0s 8ms/step - loss: 2.2113 - acc: 0.7915 - val_loss: 3.1914 - val_acc: 0.8065\n",
      "Epoch 7/10\n",
      "5/5 [==============================] - 0s 7ms/step - loss: 1.7808 - acc: 0.7894 - val_loss: 3.0802 - val_acc: 0.8065\n",
      "Epoch 8/10\n",
      "5/5 [==============================] - 0s 7ms/step - loss: 1.4254 - acc: 0.8043 - val_loss: 2.8262 - val_acc: 0.8065\n",
      "Epoch 9/10\n",
      "5/5 [==============================] - 0s 8ms/step - loss: 1.1425 - acc: 0.8553 - val_loss: 2.5803 - val_acc: 0.8226\n",
      "Epoch 10/10\n",
      "5/5 [==============================] - 0s 8ms/step - loss: 0.9229 - acc: 0.8723 - val_loss: 2.4581 - val_acc: 0.8065\n",
      "2/2 [==============================] - 0s 5ms/step - loss: 2.4581 - acc: 0.8065\n"
     ]
    },
    {
     "data": {
      "text/plain": [
       "[2.458099603652954, 0.8064516186714172]"
      ]
     },
     "execution_count": 66,
     "metadata": {},
     "output_type": "execute_result"
    }
   ],
   "source": [
    "history = model.fit(X_train, Y_train, epochs=10, batch_size=100, validation_data=(X_test, Y_test))\n",
    "model.save('mymodel.h5')\n",
    "model.evaluate(X_test, Y_test)"
   ]
  },
  {
   "cell_type": "code",
   "execution_count": 67,
   "id": "5f5ac479",
   "metadata": {},
   "outputs": [
    {
     "data": {
      "text/plain": [
       "<matplotlib.legend.Legend at 0x1d3923e8460>"
      ]
     },
     "execution_count": 67,
     "metadata": {},
     "output_type": "execute_result"
    },
    {
     "data": {
      "image/png": "[encoded data removed]",
      "text/plain": [
       "<Figure size 432x288 with 1 Axes>"
      ]
     },
     "metadata": {
      "needs_background": "light"
     },
     "output_type": "display_data"
    }
   ],
   "source": [
    "import matplotlib.pyplot as plt\n",
    "\n",
    "epochs = range(10)\n",
    "\n",
    "loss = history.history['loss']\n",
    "val_loss1 = history1.history['val_loss']\n",
    "\n",
    "plt.plot(epochs, loss1, 'r', label='training loss ANN')\n",
    "plt.plot(epochs, val_loss1, 'b', label='validasi loss ANN')\n",
    "plt.legend()"
   ]
  },
  {
   "cell_type": "markdown",
   "id": "24ff8e4d",
   "metadata": {},
   "source": [
    "## e. Menampilkan hasil confusion matriks dan akurasi dari data uji."
   ]
  },
  {
   "cell_type": "code",
   "execution_count": 69,
   "id": "fd0d4263",
   "metadata": {},
   "outputs": [
    {
     "name": "stdout",
     "output_type": "stream",
     "text": [
      "ANN Testing Accuracy: 0.9516129032258065\n"
     ]
    },
    {
     "name": "stderr",
     "output_type": "stream",
     "text": [
      "c:\\users\\asus\\appdata\\local\\programs\\python\\python39\\lib\\site-packages\\sklearn\\utils\\deprecation.py:87: FutureWarning: Function plot_confusion_matrix is deprecated; Function `plot_confusion_matrix` is deprecated in 1.0 and will be removed in 1.2. Use one of the class methods: ConfusionMatrixDisplay.from_predictions or ConfusionMatrixDisplay.from_estimator.\n",
      "  warnings.warn(msg, category=FutureWarning)\n"
     ]
    },
    {
     "data": {
      "image/png": "[encoded data removed]",
      "text/plain": [
       "<Figure size 432x288 with 2 Axes>"
      ]
     },
     "metadata": {
      "needs_background": "light"
     },
     "output_type": "display_data"
    }
   ],
   "source": [
    "from sklearn.metrics import accuracy_score, plot_confusion_matrix\n",
    "\n",
    "prediction = mlp.predict(X_test)\n",
    "plot_confusion_matrix(mlp, X_test, Y_test)\n",
    "accuracy = accuracy_score(Y_test, prediction)\n",
    "print('ANN Testing Accuracy:', accuracy)"
   ]
  },
  {
   "cell_type": "code",
   "execution_count": 70,
   "id": "983eee08",
   "metadata": {},
   "outputs": [
    {
     "name": "stdout",
     "output_type": "stream",
     "text": [
      "2/2 [==============================] - 0s 2ms/step\n",
      "label actual: 0\n",
      "label prediction: 1\n"
     ]
    }
   ],
   "source": [
    "import numpy as np\n",
    "from keras.models import load_model\n",
    "\n",
    "pred = model.predict(X_test)\n",
    "print('label actual:', np.argmax(Y_test[30]))\n",
    "print('label prediction:', np.argmax(pred[30]))"
   ]
  },
  {
   "cell_type": "code",
   "execution_count": null,
   "id": "9823a2c1",
   "metadata": {},
   "outputs": [],
   "source": []
  }
 ],
 "metadata": {
  "kernelspec": {
   "display_name": "Python 3 (ipykernel)",
   "language": "python",
   "name": "python3"
  },
  "language_info": {
   "codemirror_mode": {
    "name": "ipython",
    "version": 3
   },
   "file_extension": ".py",
   "mimetype": "text/x-python",
   "name": "python",
   "nbconvert_exporter": "python",
   "pygments_lexer": "ipython3",
   "version": "3.9.13"
  }
 },
 "nbformat": 4,
 "nbformat_minor": 5
}
